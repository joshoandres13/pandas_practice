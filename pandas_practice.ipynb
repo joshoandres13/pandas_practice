{
 "cells": [
  {
   "cell_type": "code",
   "execution_count": 1,
   "metadata": {},
   "outputs": [],
   "source": [
    "import pandas as pd"
   ]
  },
  {
   "attachments": {},
   "cell_type": "markdown",
   "metadata": {},
   "source": [
    "### Creating data\n",
    "There are two core objects in pandas: the DataFrame and the Series\n",
    "\n",
    "#### DataFrame \n",
    "It is a table. It contains an array of individual entries, each of which has a certain value. Each entry corresponds to a row (or record) and a column."
   ]
  },
  {
   "cell_type": "code",
   "execution_count": 2,
   "metadata": {},
   "outputs": [
    {
     "data": {
      "text/html": [
       "<div>\n",
       "<style scoped>\n",
       "    .dataframe tbody tr th:only-of-type {\n",
       "        vertical-align: middle;\n",
       "    }\n",
       "\n",
       "    .dataframe tbody tr th {\n",
       "        vertical-align: top;\n",
       "    }\n",
       "\n",
       "    .dataframe thead th {\n",
       "        text-align: right;\n",
       "    }\n",
       "</style>\n",
       "<table border=\"1\" class=\"dataframe\">\n",
       "  <thead>\n",
       "    <tr style=\"text-align: right;\">\n",
       "      <th></th>\n",
       "      <th>Yes</th>\n",
       "      <th>No</th>\n",
       "    </tr>\n",
       "  </thead>\n",
       "  <tbody>\n",
       "    <tr>\n",
       "      <th>0</th>\n",
       "      <td>50</td>\n",
       "      <td>131</td>\n",
       "    </tr>\n",
       "    <tr>\n",
       "      <th>1</th>\n",
       "      <td>21</td>\n",
       "      <td>2</td>\n",
       "    </tr>\n",
       "  </tbody>\n",
       "</table>\n",
       "</div>"
      ],
      "text/plain": [
       "   Yes   No\n",
       "0   50  131\n",
       "1   21    2"
      ]
     },
     "execution_count": 2,
     "metadata": {},
     "output_type": "execute_result"
    }
   ],
   "source": [
    "pd.DataFrame({'Yes':[50,21], 'No': [131,2]})"
   ]
  },
  {
   "cell_type": "code",
   "execution_count": 3,
   "metadata": {},
   "outputs": [
    {
     "data": {
      "text/html": [
       "<div>\n",
       "<style scoped>\n",
       "    .dataframe tbody tr th:only-of-type {\n",
       "        vertical-align: middle;\n",
       "    }\n",
       "\n",
       "    .dataframe tbody tr th {\n",
       "        vertical-align: top;\n",
       "    }\n",
       "\n",
       "    .dataframe thead th {\n",
       "        text-align: right;\n",
       "    }\n",
       "</style>\n",
       "<table border=\"1\" class=\"dataframe\">\n",
       "  <thead>\n",
       "    <tr style=\"text-align: right;\">\n",
       "      <th></th>\n",
       "      <th>Bob</th>\n",
       "      <th>Sue</th>\n",
       "    </tr>\n",
       "  </thead>\n",
       "  <tbody>\n",
       "    <tr>\n",
       "      <th>0</th>\n",
       "      <td>I liked it.</td>\n",
       "      <td>Pretty good.</td>\n",
       "    </tr>\n",
       "    <tr>\n",
       "      <th>1</th>\n",
       "      <td>It was awful.</td>\n",
       "      <td>Bland</td>\n",
       "    </tr>\n",
       "  </tbody>\n",
       "</table>\n",
       "</div>"
      ],
      "text/plain": [
       "             Bob           Sue\n",
       "0    I liked it.  Pretty good.\n",
       "1  It was awful.         Bland"
      ]
     },
     "execution_count": 3,
     "metadata": {},
     "output_type": "execute_result"
    }
   ],
   "source": [
    "pd.DataFrame({'Bob':['I liked it.','It was awful.'], 'Sue': ['Pretty good.', \"Bland\"]})"
   ]
  },
  {
   "attachments": {},
   "cell_type": "markdown",
   "metadata": {},
   "source": [
    "The dictionary-list constructor assigns values to the column labels, but just uses an ascending count from 0 (0, 1, 2, 3, ...) for the row labels. Sometimes this is OK, but oftentimes we will want to assign these labels ourselves.\n",
    "\n",
    "The list of row labels used in a DataFrame is known as an Index. We can assign values to it by using an index parameter in our constructor:"
   ]
  },
  {
   "cell_type": "code",
   "execution_count": 4,
   "metadata": {},
   "outputs": [
    {
     "data": {
      "text/html": [
       "<div>\n",
       "<style scoped>\n",
       "    .dataframe tbody tr th:only-of-type {\n",
       "        vertical-align: middle;\n",
       "    }\n",
       "\n",
       "    .dataframe tbody tr th {\n",
       "        vertical-align: top;\n",
       "    }\n",
       "\n",
       "    .dataframe thead th {\n",
       "        text-align: right;\n",
       "    }\n",
       "</style>\n",
       "<table border=\"1\" class=\"dataframe\">\n",
       "  <thead>\n",
       "    <tr style=\"text-align: right;\">\n",
       "      <th></th>\n",
       "      <th>Bob</th>\n",
       "      <th>Sue</th>\n",
       "    </tr>\n",
       "  </thead>\n",
       "  <tbody>\n",
       "    <tr>\n",
       "      <th>Product A</th>\n",
       "      <td>I like it.</td>\n",
       "      <td>Pretty good</td>\n",
       "    </tr>\n",
       "    <tr>\n",
       "      <th>Product B</th>\n",
       "      <td>It was awful</td>\n",
       "      <td>Blad</td>\n",
       "    </tr>\n",
       "  </tbody>\n",
       "</table>\n",
       "</div>"
      ],
      "text/plain": [
       "                    Bob          Sue\n",
       "Product A    I like it.  Pretty good\n",
       "Product B  It was awful         Blad"
      ]
     },
     "execution_count": 4,
     "metadata": {},
     "output_type": "execute_result"
    }
   ],
   "source": [
    "pd.DataFrame({'Bob':['I like it.', 'It was awful'],'Sue':['Pretty good', 'Blad']},index=['Product A', 'Product B'])"
   ]
  },
  {
   "attachments": {},
   "cell_type": "markdown",
   "metadata": {},
   "source": [
    "#### Series\n",
    "A Series, by contrast, is a sequence of data values. If a DataFrame is a table, a Series is a list. And in fact you can create one with nothing more than a list:"
   ]
  },
  {
   "cell_type": "code",
   "execution_count": 5,
   "metadata": {},
   "outputs": [
    {
     "data": {
      "text/plain": [
       "0    1\n",
       "1    2\n",
       "2    3\n",
       "3    4\n",
       "4    5\n",
       "dtype: int64"
      ]
     },
     "execution_count": 5,
     "metadata": {},
     "output_type": "execute_result"
    }
   ],
   "source": [
    "pd.Series([1,2,3,4,5])"
   ]
  },
  {
   "attachments": {},
   "cell_type": "markdown",
   "metadata": {},
   "source": [
    "A Series is, in essence, a single column of a DataFrame. So you can assign row labels to the Series the same way as before, using an index parameter. However, a Series does not have a column name, it only has one overall name:"
   ]
  },
  {
   "cell_type": "code",
   "execution_count": 6,
   "metadata": {},
   "outputs": [
    {
     "data": {
      "text/plain": [
       "2015 Sales    30\n",
       "2016 Sales    35\n",
       "2017 Sales    40\n",
       "Name: Product A, dtype: int64"
      ]
     },
     "execution_count": 6,
     "metadata": {},
     "output_type": "execute_result"
    }
   ],
   "source": [
    "pd.Series([30,35,40], index=['2015 Sales', '2016 Sales', '2017 Sales'], name='Product A')"
   ]
  },
  {
   "attachments": {},
   "cell_type": "markdown",
   "metadata": {},
   "source": [
    "### Reading data files\n",
    "Being able to create a DataFrame or Series by hand is handy. But, most of the time, we won't actually be creating our own data by hand. Instead, we'll be working with data that already exists.\n",
    "\n",
    "Data can be stored in any of a number of different forms and formats. By far the most basic of these is the humble CSV file. When you open a CSV file you get something that looks like this:"
   ]
  },
  {
   "cell_type": "code",
   "execution_count": 10,
   "metadata": {},
   "outputs": [
    {
     "data": {
      "text/plain": [
       "(150, 5)"
      ]
     },
     "execution_count": 10,
     "metadata": {},
     "output_type": "execute_result"
    }
   ],
   "source": [
    "iris_review = pd.read_csv('iris.txt', delimiter='\\t')\n",
    "#We can use the shape attribute to check how large the resulting DataFrame is:\n",
    "iris_review.shape"
   ]
  },
  {
   "attachments": {},
   "cell_type": "markdown",
   "metadata": {},
   "source": [
    "We can examine the contents of the resultant DataFrame using the head() command, which grabs the first five rows:"
   ]
  },
  {
   "cell_type": "code",
   "execution_count": 11,
   "metadata": {},
   "outputs": [
    {
     "data": {
      "text/html": [
       "<div>\n",
       "<style scoped>\n",
       "    .dataframe tbody tr th:only-of-type {\n",
       "        vertical-align: middle;\n",
       "    }\n",
       "\n",
       "    .dataframe tbody tr th {\n",
       "        vertical-align: top;\n",
       "    }\n",
       "\n",
       "    .dataframe thead th {\n",
       "        text-align: right;\n",
       "    }\n",
       "</style>\n",
       "<table border=\"1\" class=\"dataframe\">\n",
       "  <thead>\n",
       "    <tr style=\"text-align: right;\">\n",
       "      <th></th>\n",
       "      <th>Sepal.Length</th>\n",
       "      <th>Sepal.Width</th>\n",
       "      <th>Petal.Length</th>\n",
       "      <th>Petal.Width</th>\n",
       "      <th>Species</th>\n",
       "    </tr>\n",
       "  </thead>\n",
       "  <tbody>\n",
       "    <tr>\n",
       "      <th>1</th>\n",
       "      <td>5.1</td>\n",
       "      <td>3.5</td>\n",
       "      <td>1.4</td>\n",
       "      <td>0.2</td>\n",
       "      <td>setosa</td>\n",
       "    </tr>\n",
       "    <tr>\n",
       "      <th>2</th>\n",
       "      <td>4.9</td>\n",
       "      <td>3.0</td>\n",
       "      <td>1.4</td>\n",
       "      <td>0.2</td>\n",
       "      <td>setosa</td>\n",
       "    </tr>\n",
       "    <tr>\n",
       "      <th>3</th>\n",
       "      <td>4.7</td>\n",
       "      <td>3.2</td>\n",
       "      <td>1.3</td>\n",
       "      <td>0.2</td>\n",
       "      <td>setosa</td>\n",
       "    </tr>\n",
       "    <tr>\n",
       "      <th>4</th>\n",
       "      <td>4.6</td>\n",
       "      <td>3.1</td>\n",
       "      <td>1.5</td>\n",
       "      <td>0.2</td>\n",
       "      <td>setosa</td>\n",
       "    </tr>\n",
       "    <tr>\n",
       "      <th>5</th>\n",
       "      <td>5.0</td>\n",
       "      <td>3.6</td>\n",
       "      <td>1.4</td>\n",
       "      <td>0.2</td>\n",
       "      <td>setosa</td>\n",
       "    </tr>\n",
       "  </tbody>\n",
       "</table>\n",
       "</div>"
      ],
      "text/plain": [
       "   Sepal.Length  Sepal.Width  Petal.Length  Petal.Width Species\n",
       "1           5.1          3.5           1.4          0.2  setosa\n",
       "2           4.9          3.0           1.4          0.2  setosa\n",
       "3           4.7          3.2           1.3          0.2  setosa\n",
       "4           4.6          3.1           1.5          0.2  setosa\n",
       "5           5.0          3.6           1.4          0.2  setosa"
      ]
     },
     "execution_count": 11,
     "metadata": {},
     "output_type": "execute_result"
    }
   ],
   "source": [
    "iris_review.head()"
   ]
  },
  {
   "attachments": {},
   "cell_type": "markdown",
   "metadata": {},
   "source": [
    "### Example:\n",
    "## Powerlifters Database\n",
    "#### Context\n",
    "This dataset is a snapshot of the OpenPowerlifting database as of April 2019. OpenPowerlifting is creating a public-domain archive of powerlifting history. Powerlifting is a sport in which competitors compete to lift the most weight for their class in three separate barbell lifts: the Squat, Bench, and Deadlift."
   ]
  },
  {
   "cell_type": "code",
   "execution_count": 20,
   "metadata": {},
   "outputs": [],
   "source": [
    "import pandas as pd\n",
    "import matplotlib.pyplot as plt\n",
    "import numpy as np"
   ]
  },
  {
   "cell_type": "code",
   "execution_count": 43,
   "metadata": {},
   "outputs": [],
   "source": [
    "df1 = pd.read_csv('meets.csv')"
   ]
  },
  {
   "cell_type": "code",
   "execution_count": 44,
   "metadata": {},
   "outputs": [
    {
     "data": {
      "text/plain": [
       "(8482, 8)"
      ]
     },
     "execution_count": 44,
     "metadata": {},
     "output_type": "execute_result"
    }
   ],
   "source": [
    "df1.shape"
   ]
  },
  {
   "cell_type": "code",
   "execution_count": 45,
   "metadata": {},
   "outputs": [
    {
     "data": {
      "text/html": [
       "<div>\n",
       "<style scoped>\n",
       "    .dataframe tbody tr th:only-of-type {\n",
       "        vertical-align: middle;\n",
       "    }\n",
       "\n",
       "    .dataframe tbody tr th {\n",
       "        vertical-align: top;\n",
       "    }\n",
       "\n",
       "    .dataframe thead th {\n",
       "        text-align: right;\n",
       "    }\n",
       "</style>\n",
       "<table border=\"1\" class=\"dataframe\">\n",
       "  <thead>\n",
       "    <tr style=\"text-align: right;\">\n",
       "      <th></th>\n",
       "      <th>MeetID</th>\n",
       "      <th>MeetPath</th>\n",
       "      <th>Federation</th>\n",
       "      <th>Date</th>\n",
       "      <th>MeetCountry</th>\n",
       "      <th>MeetState</th>\n",
       "      <th>MeetTown</th>\n",
       "      <th>MeetName</th>\n",
       "    </tr>\n",
       "  </thead>\n",
       "  <tbody>\n",
       "    <tr>\n",
       "      <th>0</th>\n",
       "      <td>0</td>\n",
       "      <td>365strong/1601</td>\n",
       "      <td>365Strong</td>\n",
       "      <td>2016-10-29</td>\n",
       "      <td>USA</td>\n",
       "      <td>NC</td>\n",
       "      <td>Charlotte</td>\n",
       "      <td>2016 Junior &amp; Senior National Powerlifting Cha...</td>\n",
       "    </tr>\n",
       "    <tr>\n",
       "      <th>1</th>\n",
       "      <td>1</td>\n",
       "      <td>365strong/1602</td>\n",
       "      <td>365Strong</td>\n",
       "      <td>2016-11-19</td>\n",
       "      <td>USA</td>\n",
       "      <td>MO</td>\n",
       "      <td>Ozark</td>\n",
       "      <td>Thanksgiving Powerlifting Classic</td>\n",
       "    </tr>\n",
       "  </tbody>\n",
       "</table>\n",
       "</div>"
      ],
      "text/plain": [
       "   MeetID        MeetPath Federation        Date MeetCountry MeetState  \\\n",
       "0       0  365strong/1601  365Strong  2016-10-29         USA        NC   \n",
       "1       1  365strong/1602  365Strong  2016-11-19         USA        MO   \n",
       "\n",
       "    MeetTown                                           MeetName  \n",
       "0  Charlotte  2016 Junior & Senior National Powerlifting Cha...  \n",
       "1      Ozark                  Thanksgiving Powerlifting Classic  "
      ]
     },
     "execution_count": 45,
     "metadata": {},
     "output_type": "execute_result"
    }
   ],
   "source": [
    "df1.head(2)"
   ]
  },
  {
   "cell_type": "code",
   "execution_count": 46,
   "metadata": {},
   "outputs": [],
   "source": [
    "df1[\"Date\"] = pd.to_datetime(df1['Date'])"
   ]
  },
  {
   "cell_type": "code",
   "execution_count": 47,
   "metadata": {},
   "outputs": [],
   "source": [
    "df1['Month'] = df1['Date'].apply(lambda x:x.month)\n",
    "df1['Year'] = df1['Date'].apply(lambda x:x.year)"
   ]
  },
  {
   "cell_type": "code",
   "execution_count": 50,
   "metadata": {},
   "outputs": [
    {
     "data": {
      "image/png": "[encoded data removed]",
      "text/plain": [
       "<Figure size 1200x700 with 1 Axes>"
      ]
     },
     "metadata": {},
     "output_type": "display_data"
    },
    {
     "name": "stdout",
     "output_type": "stream",
     "text": [
      "Meets by Country:\n",
      "\n",
      "USA            3894\n",
      "Norway         2521\n",
      "Canada         1066\n",
      "Australia       532\n",
      "New Zealand     195\n",
      "Russia           43\n",
      "N.Ireland        36\n",
      "UK               34\n",
      "Ireland          21\n",
      "England          16\n",
      "Name: MeetCountry, dtype: int64\n"
     ]
    }
   ],
   "source": [
    "\n",
    "plt.figure(figsize=(12,7))\n",
    "df1['MeetCountry'].value_counts()[:10].sort_values(ascending=True).plot(kind='barh', color=['C0','C1','C2','C3', 'C4','C5','C6','C7','C8','C9'])\n",
    "\n",
    "plt.title('Meet by Country\\n', fontsize=20)\n",
    "plt.xticks(fontsize=15)\n",
    "plt.yticks(fontsize=15)\n",
    "plt.show()\n",
    "\n",
    "print('Meets by Country:\\n')\n",
    "print(df1['MeetCountry'].value_counts()[:10])\n"
   ]
  },
  {
   "attachments": {},
   "cell_type": "markdown",
   "metadata": {},
   "source": [
    "U.S.A. is number one. Not too surprising to know Americans have the most meets, considering the population and economy of the United States. However, meets per capita of Norway, Canada, Australia and New Zealand are all higher than the United States."
   ]
  },
  {
   "cell_type": "code",
   "execution_count": 52,
   "metadata": {},
   "outputs": [],
   "source": [
    "#Current country populations, as of January 1, 2020\n",
    "\n",
    "USPop = 331002651\n",
    "NORWAYPop = 5421241\n",
    "CANADAPop = 37742154\n",
    "AUSTRALIAPop = 25499884\n",
    "NEWZEALANDPop = 4822233\n",
    "\n",
    "\n",
    "perCapDict = {'United States': len(df1[df1['MeetCountry']=='USA']) / USPop * 100000,\n",
    "            'Norway': len(df1[df1['MeetCountry']=='Norway']) / NORWAYPop * 100000,\n",
    "            'Canada': len(df1[df1['MeetCountry']=='Canada']) / CANADAPop * 100000,\n",
    "            'Australia': len(df1[df1['MeetCountry']=='Australia']) / AUSTRALIAPop * 100000,\n",
    "            'New Zealand': len(df1[df1['MeetCountry']=='New Zealand']) / NEWZEALANDPop * 100000}\n",
    "\n",
    "perCapDf = pd.Series(perCapDict)\n",
    "\n"
   ]
  },
  {
   "cell_type": "code",
   "execution_count": 55,
   "metadata": {},
   "outputs": [
    {
     "data": {
      "image/png": "[encoded data removed]",
      "text/plain": [
       "<Figure size 1000x500 with 1 Axes>"
      ]
     },
     "metadata": {},
     "output_type": "display_data"
    },
    {
     "name": "stdout",
     "output_type": "stream",
     "text": [
      "Meets per 100,000 People\n",
      "\n",
      "United:  1.18\n",
      "Norway:  46.5\n",
      "Canada:  2.82\n",
      "Austra:  2.09\n",
      "New Ze:  4.04\n"
     ]
    }
   ],
   "source": [
    "plt.figure(figsize=(10,5))\n",
    "perCapDf.plot(kind='barh', color=['C0','C1','C2','C3', 'C4'])\n",
    "plt.title('Meets per 100,000 People\\n',fontsize=20)\n",
    "plt.xticks(fontsize=15)\n",
    "plt.yticks(fontsize=15)\n",
    "plt.show()\n",
    "print('Meets per 100,000 People\\n')\n",
    "for k,v in perCapDict.items():\n",
    "    print(k[:6] + ': ',(round(v,2)))"
   ]
  },
  {
   "attachments": {},
   "cell_type": "markdown",
   "metadata": {},
   "source": [
    "Wow, Norway really seems to standout as a weightlifting nation!"
   ]
  },
  {
   "cell_type": "code",
   "execution_count": 57,
   "metadata": {},
   "outputs": [
    {
     "data": {
      "image/png": "[encoded data removed]",
      "text/plain": [
       "<Figure size 1000x600 with 1 Axes>"
      ]
     },
     "metadata": {},
     "output_type": "display_data"
    },
    {
     "name": "stdout",
     "output_type": "stream",
     "text": [
      "Month\n",
      "1      800\n",
      "2     1085\n",
      "3      656\n",
      "4      753\n",
      "5      652\n",
      "6      702\n",
      "7      430\n",
      "8      552\n",
      "9      650\n",
      "10     781\n",
      "11     639\n",
      "12     782\n",
      "Name: Month, dtype: int64\n"
     ]
    }
   ],
   "source": [
    "plt.figure(figsize=(10,6))\n",
    "df1.groupby(['Month'])['Month'].count().plot(kind='bar',color=['C0','C1','C2','C3', 'C4','C5','C6','C7','C8','C9','C10','C11'])\n",
    "plt.title('World Meets by Month\\n',fontsize=20)\n",
    "plt.xticks(fontsize=15)\n",
    "plt.yticks(fontsize=15)\n",
    "plt.show()\n",
    "print(df1.groupby(['Month'])['Month'].count())"
   ]
  },
  {
   "attachments": {},
   "cell_type": "markdown",
   "metadata": {},
   "source": [
    "Seems that weightlifting meets is more practiced in February"
   ]
  },
  {
   "cell_type": "code",
   "execution_count": 62,
   "metadata": {},
   "outputs": [
    {
     "data": {
      "image/png": "[encoded data removed]",
      "text/plain": [
       "<Figure size 2000x600 with 1 Axes>"
      ]
     },
     "metadata": {},
     "output_type": "display_data"
    }
   ],
   "source": [
    "plt.figure(figsize=(20,6))\n",
    "df1.groupby(['Year'])['Year'].count().plot(kind='bar',color=['C0','C1','C2','C3', 'C4','C5','C6','C7','C8','C9','C10','C11'])\n",
    "plt.title('World Meets by Year\\n',fontsize=22)\n",
    "plt.xlabel('Year',fontsize=15)\n",
    "plt.xticks(fontsize=15)\n",
    "plt.yticks(fontsize=15)\n",
    "plt.show()"
   ]
  },
  {
   "attachments": {},
   "cell_type": "markdown",
   "metadata": {},
   "source": [
    "Seems that weightlifting as a sport has growth considerably."
   ]
  },
  {
   "attachments": {},
   "cell_type": "markdown",
   "metadata": {},
   "source": [
    "## Data Cleaning and Processing"
   ]
  },
  {
   "cell_type": "code",
   "execution_count": 63,
   "metadata": {},
   "outputs": [
    {
     "name": "stderr",
     "output_type": "stream",
     "text": [
      "/tmp/ipykernel_743/1311049924.py:1: DtypeWarning: Columns (35) have mixed types. Specify dtype option on import or set low_memory=False.\n",
      "  df = pd.read_csv('dataset/openpowerlifting.csv')\n"
     ]
    }
   ],
   "source": [
    "df = pd.read_csv('dataset/openpowerlifting.csv')"
   ]
  },
  {
   "cell_type": "code",
   "execution_count": 64,
   "metadata": {},
   "outputs": [
    {
     "data": {
      "text/plain": [
       "(1423354, 37)"
      ]
     },
     "execution_count": 64,
     "metadata": {},
     "output_type": "execute_result"
    }
   ],
   "source": [
    "df.shape"
   ]
  },
  {
   "cell_type": "code",
   "execution_count": 65,
   "metadata": {},
   "outputs": [
    {
     "data": {
      "text/html": [
       "<div>\n",
       "<style scoped>\n",
       "    .dataframe tbody tr th:only-of-type {\n",
       "        vertical-align: middle;\n",
       "    }\n",
       "\n",
       "    .dataframe tbody tr th {\n",
       "        vertical-align: top;\n",
       "    }\n",
       "\n",
       "    .dataframe thead th {\n",
       "        text-align: right;\n",
       "    }\n",
       "</style>\n",
       "<table border=\"1\" class=\"dataframe\">\n",
       "  <thead>\n",
       "    <tr style=\"text-align: right;\">\n",
       "      <th></th>\n",
       "      <th>Name</th>\n",
       "      <th>Sex</th>\n",
       "      <th>Event</th>\n",
       "      <th>Equipment</th>\n",
       "      <th>Age</th>\n",
       "      <th>AgeClass</th>\n",
       "      <th>Division</th>\n",
       "      <th>BodyweightKg</th>\n",
       "      <th>WeightClassKg</th>\n",
       "      <th>Squat1Kg</th>\n",
       "      <th>...</th>\n",
       "      <th>McCulloch</th>\n",
       "      <th>Glossbrenner</th>\n",
       "      <th>IPFPoints</th>\n",
       "      <th>Tested</th>\n",
       "      <th>Country</th>\n",
       "      <th>Federation</th>\n",
       "      <th>Date</th>\n",
       "      <th>MeetCountry</th>\n",
       "      <th>MeetState</th>\n",
       "      <th>MeetName</th>\n",
       "    </tr>\n",
       "  </thead>\n",
       "  <tbody>\n",
       "    <tr>\n",
       "      <th>0</th>\n",
       "      <td>Abbie Murphy</td>\n",
       "      <td>F</td>\n",
       "      <td>SBD</td>\n",
       "      <td>Wraps</td>\n",
       "      <td>29.0</td>\n",
       "      <td>24-34</td>\n",
       "      <td>F-OR</td>\n",
       "      <td>59.8</td>\n",
       "      <td>60</td>\n",
       "      <td>80.0</td>\n",
       "      <td>...</td>\n",
       "      <td>324.16</td>\n",
       "      <td>286.42</td>\n",
       "      <td>511.15</td>\n",
       "      <td>NaN</td>\n",
       "      <td>NaN</td>\n",
       "      <td>GPC-AUS</td>\n",
       "      <td>2018-10-27</td>\n",
       "      <td>Australia</td>\n",
       "      <td>VIC</td>\n",
       "      <td>Melbourne Cup</td>\n",
       "    </tr>\n",
       "    <tr>\n",
       "      <th>1</th>\n",
       "      <td>Abbie Tuong</td>\n",
       "      <td>F</td>\n",
       "      <td>SBD</td>\n",
       "      <td>Wraps</td>\n",
       "      <td>29.0</td>\n",
       "      <td>24-34</td>\n",
       "      <td>F-OR</td>\n",
       "      <td>58.5</td>\n",
       "      <td>60</td>\n",
       "      <td>100.0</td>\n",
       "      <td>...</td>\n",
       "      <td>378.07</td>\n",
       "      <td>334.16</td>\n",
       "      <td>595.65</td>\n",
       "      <td>NaN</td>\n",
       "      <td>NaN</td>\n",
       "      <td>GPC-AUS</td>\n",
       "      <td>2018-10-27</td>\n",
       "      <td>Australia</td>\n",
       "      <td>VIC</td>\n",
       "      <td>Melbourne Cup</td>\n",
       "    </tr>\n",
       "    <tr>\n",
       "      <th>2</th>\n",
       "      <td>Ainslee Hooper</td>\n",
       "      <td>F</td>\n",
       "      <td>B</td>\n",
       "      <td>Raw</td>\n",
       "      <td>40.0</td>\n",
       "      <td>40-44</td>\n",
       "      <td>F-OR</td>\n",
       "      <td>55.4</td>\n",
       "      <td>56</td>\n",
       "      <td>NaN</td>\n",
       "      <td>...</td>\n",
       "      <td>38.56</td>\n",
       "      <td>34.12</td>\n",
       "      <td>313.97</td>\n",
       "      <td>NaN</td>\n",
       "      <td>NaN</td>\n",
       "      <td>GPC-AUS</td>\n",
       "      <td>2018-10-27</td>\n",
       "      <td>Australia</td>\n",
       "      <td>VIC</td>\n",
       "      <td>Melbourne Cup</td>\n",
       "    </tr>\n",
       "    <tr>\n",
       "      <th>3</th>\n",
       "      <td>Amy Moldenhauer</td>\n",
       "      <td>F</td>\n",
       "      <td>SBD</td>\n",
       "      <td>Wraps</td>\n",
       "      <td>23.0</td>\n",
       "      <td>20-23</td>\n",
       "      <td>F-OR</td>\n",
       "      <td>60.0</td>\n",
       "      <td>60</td>\n",
       "      <td>-105.0</td>\n",
       "      <td>...</td>\n",
       "      <td>345.61</td>\n",
       "      <td>305.37</td>\n",
       "      <td>547.04</td>\n",
       "      <td>NaN</td>\n",
       "      <td>NaN</td>\n",
       "      <td>GPC-AUS</td>\n",
       "      <td>2018-10-27</td>\n",
       "      <td>Australia</td>\n",
       "      <td>VIC</td>\n",
       "      <td>Melbourne Cup</td>\n",
       "    </tr>\n",
       "    <tr>\n",
       "      <th>4</th>\n",
       "      <td>Andrea Rowan</td>\n",
       "      <td>F</td>\n",
       "      <td>SBD</td>\n",
       "      <td>Wraps</td>\n",
       "      <td>45.0</td>\n",
       "      <td>45-49</td>\n",
       "      <td>F-OR</td>\n",
       "      <td>104.0</td>\n",
       "      <td>110</td>\n",
       "      <td>120.0</td>\n",
       "      <td>...</td>\n",
       "      <td>338.91</td>\n",
       "      <td>274.56</td>\n",
       "      <td>550.08</td>\n",
       "      <td>NaN</td>\n",
       "      <td>NaN</td>\n",
       "      <td>GPC-AUS</td>\n",
       "      <td>2018-10-27</td>\n",
       "      <td>Australia</td>\n",
       "      <td>VIC</td>\n",
       "      <td>Melbourne Cup</td>\n",
       "    </tr>\n",
       "  </tbody>\n",
       "</table>\n",
       "<p>5 rows × 37 columns</p>\n",
       "</div>"
      ],
      "text/plain": [
       "              Name Sex Event Equipment   Age AgeClass Division  BodyweightKg  \\\n",
       "0     Abbie Murphy   F   SBD     Wraps  29.0    24-34     F-OR          59.8   \n",
       "1      Abbie Tuong   F   SBD     Wraps  29.0    24-34     F-OR          58.5   \n",
       "2   Ainslee Hooper   F     B       Raw  40.0    40-44     F-OR          55.4   \n",
       "3  Amy Moldenhauer   F   SBD     Wraps  23.0    20-23     F-OR          60.0   \n",
       "4     Andrea Rowan   F   SBD     Wraps  45.0    45-49     F-OR         104.0   \n",
       "\n",
       "  WeightClassKg  Squat1Kg  ...  McCulloch  Glossbrenner  IPFPoints  Tested  \\\n",
       "0            60      80.0  ...     324.16        286.42     511.15     NaN   \n",
       "1            60     100.0  ...     378.07        334.16     595.65     NaN   \n",
       "2            56       NaN  ...      38.56         34.12     313.97     NaN   \n",
       "3            60    -105.0  ...     345.61        305.37     547.04     NaN   \n",
       "4           110     120.0  ...     338.91        274.56     550.08     NaN   \n",
       "\n",
       "   Country  Federation        Date  MeetCountry  MeetState       MeetName  \n",
       "0      NaN     GPC-AUS  2018-10-27    Australia        VIC  Melbourne Cup  \n",
       "1      NaN     GPC-AUS  2018-10-27    Australia        VIC  Melbourne Cup  \n",
       "2      NaN     GPC-AUS  2018-10-27    Australia        VIC  Melbourne Cup  \n",
       "3      NaN     GPC-AUS  2018-10-27    Australia        VIC  Melbourne Cup  \n",
       "4      NaN     GPC-AUS  2018-10-27    Australia        VIC  Melbourne Cup  \n",
       "\n",
       "[5 rows x 37 columns]"
      ]
     },
     "execution_count": 65,
     "metadata": {},
     "output_type": "execute_result"
    }
   ],
   "source": [
    "df.head()"
   ]
  },
  {
   "attachments": {},
   "cell_type": "markdown",
   "metadata": {},
   "source": [
    "#### Missing Data"
   ]
  },
  {
   "cell_type": "code",
   "execution_count": null,
   "metadata": {},
   "outputs": [],
   "source": [
    "import seaborn as sns\n",
    "plt.figure(figsize=(12,8))\n",
    "sns.heatmap(df.isnull(),cmap='cool',cbar=False,yticklabels=False)\n",
    "plt.title('Missing Data?',fontsize=20)\n",
    "plt.show()"
   ]
  }
 ],
 "metadata": {
  "kernelspec": {
   "display_name": "Python 3",
   "language": "python",
   "name": "python3"
  },
  "language_info": {
   "codemirror_mode": {
    "name": "ipython",
    "version": 3
   },
   "file_extension": ".py",
   "mimetype": "text/x-python",
   "name": "python",
   "nbconvert_exporter": "python",
   "pygments_lexer": "ipython3",
   "version": "3.10.6"
  },
  "orig_nbformat": 4,
  "vscode": {
   "interpreter": {
    "hash": "916dbcbb3f70747c44a77c7bcd40155683ae19c65e1c03b4aa3499c5328201f1"
   }
  }
 },
 "nbformat": 4,
 "nbformat_minor": 2
}
